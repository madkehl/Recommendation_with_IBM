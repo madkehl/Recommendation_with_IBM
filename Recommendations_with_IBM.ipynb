{
 "cells": [
  {
   "cell_type": "markdown",
   "metadata": {},
   "source": [
    "# Recommendations with IBM\n",
    "\n",
    "In this notebook, we apply a variety of recommendation techniques to the IBM Watson Studio platform. \n",
    "[RUBRIC](https://review.udacity.com/#!/rubrics/2322/view).\n",
    "\n",
    "## Table of Contents\n",
    "\n",
    "I. [Exploratory Data Analysis](#Exploratory-Data-Analysis)<br>\n",
    "II. [Rank Based Recommendations](#Rank)<br>\n",
    "III. [User-User Based Collaborative Filtering](#User-User)<br>\n",
    "IV. [Content Based Recommendations (EXTRA - NOT REQUIRED)](#Content-Recs)<br>\n",
    "V. [Matrix Factorization](#Matrix-Fact)<br>\n",
    "VI. [Extras & Concluding](#conclusions)"
   ]
  },
  {
   "cell_type": "code",
   "execution_count": 1,
   "metadata": {},
   "outputs": [
    {
     "data": {
      "text/html": [
       "<div>\n",
       "<style scoped>\n",
       "    .dataframe tbody tr th:only-of-type {\n",
       "        vertical-align: middle;\n",
       "    }\n",
       "\n",
       "    .dataframe tbody tr th {\n",
       "        vertical-align: top;\n",
       "    }\n",
       "\n",
       "    .dataframe thead th {\n",
       "        text-align: right;\n",
       "    }\n",
       "</style>\n",
       "<table border=\"1\" class=\"dataframe\">\n",
       "  <thead>\n",
       "    <tr style=\"text-align: right;\">\n",
       "      <th></th>\n",
       "      <th>article_id</th>\n",
       "      <th>title</th>\n",
       "      <th>email</th>\n",
       "    </tr>\n",
       "  </thead>\n",
       "  <tbody>\n",
       "    <tr>\n",
       "      <th>0</th>\n",
       "      <td>1430.0</td>\n",
       "      <td>using pixiedust for fast, flexible, and easier...</td>\n",
       "      <td>ef5f11f77ba020cd36e1105a00ab868bbdbf7fe7</td>\n",
       "    </tr>\n",
       "    <tr>\n",
       "      <th>1</th>\n",
       "      <td>1314.0</td>\n",
       "      <td>healthcare python streaming application demo</td>\n",
       "      <td>083cbdfa93c8444beaa4c5f5e0f5f9198e4f9e0b</td>\n",
       "    </tr>\n",
       "    <tr>\n",
       "      <th>2</th>\n",
       "      <td>1429.0</td>\n",
       "      <td>use deep learning for image classification</td>\n",
       "      <td>b96a4f2e92d8572034b1e9b28f9ac673765cd074</td>\n",
       "    </tr>\n",
       "    <tr>\n",
       "      <th>3</th>\n",
       "      <td>1338.0</td>\n",
       "      <td>ml optimization using cognitive assistant</td>\n",
       "      <td>06485706b34a5c9bf2a0ecdac41daf7e7654ceb7</td>\n",
       "    </tr>\n",
       "    <tr>\n",
       "      <th>4</th>\n",
       "      <td>1276.0</td>\n",
       "      <td>deploy your python model as a restful api</td>\n",
       "      <td>f01220c46fc92c6e6b161b1849de11faacd7ccb2</td>\n",
       "    </tr>\n",
       "  </tbody>\n",
       "</table>\n",
       "</div>"
      ],
      "text/plain": [
       "   article_id                                              title  \\\n",
       "0      1430.0  using pixiedust for fast, flexible, and easier...   \n",
       "1      1314.0       healthcare python streaming application demo   \n",
       "2      1429.0         use deep learning for image classification   \n",
       "3      1338.0          ml optimization using cognitive assistant   \n",
       "4      1276.0          deploy your python model as a restful api   \n",
       "\n",
       "                                      email  \n",
       "0  ef5f11f77ba020cd36e1105a00ab868bbdbf7fe7  \n",
       "1  083cbdfa93c8444beaa4c5f5e0f5f9198e4f9e0b  \n",
       "2  b96a4f2e92d8572034b1e9b28f9ac673765cd074  \n",
       "3  06485706b34a5c9bf2a0ecdac41daf7e7654ceb7  \n",
       "4  f01220c46fc92c6e6b161b1849de11faacd7ccb2  "
      ]
     },
     "execution_count": 1,
     "metadata": {},
     "output_type": "execute_result"
    }
   ],
   "source": [
    "#basic imports\n",
    "import pandas as pd\n",
    "import numpy as np\n",
    "import matplotlib.pyplot as plt\n",
    "import project_tests as t\n",
    "import pickle\n",
    "from sklearn.metrics import accuracy_score\n",
    "\n",
    "#content-based recommendation imports\n",
    "from nltk import pos_tag\n",
    "from nltk.tokenize import word_tokenize\n",
    "import nltk\n",
    "\n",
    "from string import punctuation\n",
    "from re import sub\n",
    "\n",
    "lemma = nltk.wordnet.WordNetLemmatizer()\n",
    "from sklearn.metrics.pairwise import cosine_similarity\n",
    "\n",
    "from sklearn.feature_extraction.text import TfidfVectorizer\n",
    "from sklearn.decomposition import LatentDirichletAllocation\n",
    "\n",
    "from sklearn.pipeline import Pipeline\n",
    "\n",
    "\n",
    "%matplotlib inline\n",
    "\n",
    "df = pd.read_csv('data/user-item-interactions.csv')\n",
    "df_content = pd.read_csv('data/articles_community.csv')\n",
    "del df['Unnamed: 0']\n",
    "del df_content['Unnamed: 0']\n",
    "\n",
    "# Show df to get an idea of the data\n",
    "df.head()"
   ]
  },
  {
   "cell_type": "code",
   "execution_count": 2,
   "metadata": {},
   "outputs": [
    {
     "data": {
      "text/html": [
       "<div>\n",
       "<style scoped>\n",
       "    .dataframe tbody tr th:only-of-type {\n",
       "        vertical-align: middle;\n",
       "    }\n",
       "\n",
       "    .dataframe tbody tr th {\n",
       "        vertical-align: top;\n",
       "    }\n",
       "\n",
       "    .dataframe thead th {\n",
       "        text-align: right;\n",
       "    }\n",
       "</style>\n",
       "<table border=\"1\" class=\"dataframe\">\n",
       "  <thead>\n",
       "    <tr style=\"text-align: right;\">\n",
       "      <th></th>\n",
       "      <th>doc_body</th>\n",
       "      <th>doc_description</th>\n",
       "      <th>doc_full_name</th>\n",
       "      <th>doc_status</th>\n",
       "      <th>article_id</th>\n",
       "    </tr>\n",
       "  </thead>\n",
       "  <tbody>\n",
       "    <tr>\n",
       "      <th>0</th>\n",
       "      <td>Skip navigation Sign in SearchLoading...\\r\\n\\r...</td>\n",
       "      <td>Detect bad readings in real time using Python ...</td>\n",
       "      <td>Detect Malfunctioning IoT Sensors with Streami...</td>\n",
       "      <td>Live</td>\n",
       "      <td>0</td>\n",
       "    </tr>\n",
       "    <tr>\n",
       "      <th>1</th>\n",
       "      <td>No Free Hunch Navigation * kaggle.com\\r\\n\\r\\n ...</td>\n",
       "      <td>See the forest, see the trees. Here lies the c...</td>\n",
       "      <td>Communicating data science: A guide to present...</td>\n",
       "      <td>Live</td>\n",
       "      <td>1</td>\n",
       "    </tr>\n",
       "    <tr>\n",
       "      <th>2</th>\n",
       "      <td>☰ * Login\\r\\n * Sign Up\\r\\n\\r\\n * Learning Pat...</td>\n",
       "      <td>Here’s this week’s news in Data Science and Bi...</td>\n",
       "      <td>This Week in Data Science (April 18, 2017)</td>\n",
       "      <td>Live</td>\n",
       "      <td>2</td>\n",
       "    </tr>\n",
       "    <tr>\n",
       "      <th>3</th>\n",
       "      <td>DATALAYER: HIGH THROUGHPUT, LOW LATENCY AT SCA...</td>\n",
       "      <td>Learn how distributed DBs solve the problem of...</td>\n",
       "      <td>DataLayer Conference: Boost the performance of...</td>\n",
       "      <td>Live</td>\n",
       "      <td>3</td>\n",
       "    </tr>\n",
       "    <tr>\n",
       "      <th>4</th>\n",
       "      <td>Skip navigation Sign in SearchLoading...\\r\\n\\r...</td>\n",
       "      <td>This video demonstrates the power of IBM DataS...</td>\n",
       "      <td>Analyze NY Restaurant data using Spark in DSX</td>\n",
       "      <td>Live</td>\n",
       "      <td>4</td>\n",
       "    </tr>\n",
       "  </tbody>\n",
       "</table>\n",
       "</div>"
      ],
      "text/plain": [
       "                                            doc_body  \\\n",
       "0  Skip navigation Sign in SearchLoading...\\r\\n\\r...   \n",
       "1  No Free Hunch Navigation * kaggle.com\\r\\n\\r\\n ...   \n",
       "2  ☰ * Login\\r\\n * Sign Up\\r\\n\\r\\n * Learning Pat...   \n",
       "3  DATALAYER: HIGH THROUGHPUT, LOW LATENCY AT SCA...   \n",
       "4  Skip navigation Sign in SearchLoading...\\r\\n\\r...   \n",
       "\n",
       "                                     doc_description  \\\n",
       "0  Detect bad readings in real time using Python ...   \n",
       "1  See the forest, see the trees. Here lies the c...   \n",
       "2  Here’s this week’s news in Data Science and Bi...   \n",
       "3  Learn how distributed DBs solve the problem of...   \n",
       "4  This video demonstrates the power of IBM DataS...   \n",
       "\n",
       "                                       doc_full_name doc_status  article_id  \n",
       "0  Detect Malfunctioning IoT Sensors with Streami...       Live           0  \n",
       "1  Communicating data science: A guide to present...       Live           1  \n",
       "2         This Week in Data Science (April 18, 2017)       Live           2  \n",
       "3  DataLayer Conference: Boost the performance of...       Live           3  \n",
       "4      Analyze NY Restaurant data using Spark in DSX       Live           4  "
      ]
     },
     "execution_count": 2,
     "metadata": {},
     "output_type": "execute_result"
    }
   ],
   "source": [
    "# Show df_content to get an idea of the data\n",
    "df_content.head()"
   ]
  },
  {
   "cell_type": "markdown",
   "metadata": {},
   "source": [
    "### <a class=\"anchor\" id=\"Exploratory-Data-Analysis\">Part I : Exploratory Data Analysis</a>\n",
    "\n",
    "\n",
    "`1.` What is the distribution of how many articles a user interacts with in the dataset? "
   ]
  },
  {
   "cell_type": "code",
   "execution_count": 3,
   "metadata": {},
   "outputs": [
    {
     "name": "stdout",
     "output_type": "stream",
     "text": [
      "the median # of articles a user has viewed: 3.0\n",
      "the max # of articles a user has viewed: 364\n",
      "\n",
      "Per User\n"
     ]
    },
    {
     "data": {
      "text/plain": [
       "<matplotlib.axes._subplots.AxesSubplot at 0x2504bea1470>"
      ]
     },
     "execution_count": 3,
     "metadata": {},
     "output_type": "execute_result"
    },
    {
     "data": {
      "image/png": "[encoded data removed]",
      "text/plain": [
       "<matplotlib.figure.Figure at 0x2504be4c518>"
      ]
     },
     "metadata": {},
     "output_type": "display_data"
    }
   ],
   "source": [
    "#Provide a visual and descriptive statistics to assist with giving a look at the number of times each user interacts with an article\n",
    "per_user = df.groupby(['email']).size().values\n",
    "\n",
    "print('the median # of articles a user has viewed: ' + str(np.median(per_user)))\n",
    "print('the max # of articles a user has viewed: ' + str(max(per_user)))\n",
    "print()\n",
    "print('Per User')\n",
    "df.groupby(['email']).size().hist(bins = np.arange(1,364, 1))"
   ]
  },
  {
   "cell_type": "code",
   "execution_count": 4,
   "metadata": {},
   "outputs": [
    {
     "name": "stdout",
     "output_type": "stream",
     "text": [
      "the median # of articles a user has viewed: 1.0\n",
      "the max # of articles a user has viewed: 42\n",
      "\n",
      "Per User, Per Article\n"
     ]
    },
    {
     "data": {
      "text/plain": [
       "<matplotlib.axes._subplots.AxesSubplot at 0x2504cfe17f0>"
      ]
     },
     "execution_count": 4,
     "metadata": {},
     "output_type": "execute_result"
    },
    {
     "data": {
      "image/png": "[encoded data removed]",
      "text/plain": [
       "<matplotlib.figure.Figure at 0x2504bf7d4e0>"
      ]
     },
     "metadata": {},
     "output_type": "display_data"
    }
   ],
   "source": [
    "#per user, per article\n",
    "per_user_per_article = df.groupby(['email', 'article_id']).size().values\n",
    "\n",
    "print('the median # of articles a user has viewed: ' + str(np.median(per_user_per_article)))\n",
    "print('the max # of articles a user has viewed: ' + str(max(per_user_per_article)))\n",
    "print()\n",
    "print('Per User, Per Article')\n",
    "df.groupby(['email', 'article_id']).size().hist(bins = np.arange(1,42, 1))"
   ]
  },
  {
   "cell_type": "code",
   "execution_count": 5,
   "metadata": {},
   "outputs": [],
   "source": [
    "median_val = int(np.median(per_user)) # 50% of individuals interact with ____ number of articles or fewer.\n",
    "max_views_by_user = int(max(per_user))# The maximum number of user-article interactions by any 1 user is ______."
   ]
  },
  {
   "cell_type": "markdown",
   "metadata": {},
   "source": [
    "`2.` Remove duplicate articles from the **df_content** dataframe.  "
   ]
  },
  {
   "cell_type": "code",
   "execution_count": 6,
   "metadata": {},
   "outputs": [
    {
     "name": "stdout",
     "output_type": "stream",
     "text": [
      "there are 189 duplicate rows\n",
      "there are 0 mismatches in title and article duplicates\n"
     ]
    },
    {
     "name": "stderr",
     "output_type": "stream",
     "text": [
      "C:\\Users\\madke\\Anaconda3\\lib\\site-packages\\ipykernel_launcher.py:2: UserWarning: Boolean Series key will be reindexed to match DataFrame index.\n",
      "  \n"
     ]
    }
   ],
   "source": [
    "# Find and explore duplicate articles\n",
    "content_dupl = df_content[df.duplicated()]\n",
    "print('there are ' + str(content_dupl.shape[0]) + ' duplicate rows')\n",
    "#all duplicates are represented as such in article id in df\n",
    "mismatch_dupl = np.setdiff1d(list(df.drop_duplicates(subset = ['title'], keep = 'first')), list(df.drop_duplicates(subset = ['article_id'], keep = 'first')))\n",
    "print('there are ' + str(len(mismatch_dupl)) + ' mismatches in title and article duplicates')"
   ]
  },
  {
   "cell_type": "code",
   "execution_count": 7,
   "metadata": {},
   "outputs": [
    {
     "name": "stdout",
     "output_type": "stream",
     "text": [
      "nan\n"
     ]
    }
   ],
   "source": [
    "# Remove any rows that have the same article_id - only keep the first\n",
    "df_content = df_content.drop_duplicates()\n",
    "\n",
    "\n",
    "#this is to accurately get the number of participants for the test cell below\n",
    "grouped_df = df.groupby(['email'])\n",
    "no_nan = []\n",
    "for i in (list(set(df['email']))):\n",
    "    if isinstance(i, float):\n",
    "        print(i)\n",
    "    else:\n",
    "        i_df = grouped_df.get_group(i)\n",
    "        no_nan.append(i_df)\n",
    "    \n",
    "no_nan = pd.concat(no_nan, axis = 0)"
   ]
  },
  {
   "cell_type": "markdown",
   "metadata": {},
   "source": [
    "`3.` The cell below finds:\n",
    "\n",
    "**a.** The number of unique articles that have an interaction with a user.  \n",
    "**b.** The number of unique articles in the dataset (whether they have any interactions or not).<br>\n",
    "**c.** The number of unique users in the dataset. (excluding null values) <br>\n",
    "**d.** The number of user-article interactions in the dataset."
   ]
  },
  {
   "cell_type": "code",
   "execution_count": 8,
   "metadata": {},
   "outputs": [],
   "source": [
    "unique_articles = len(list(set(df['article_id'])))# The number of unique articles that have at least one interaction\n",
    "total_articles =len(list(set(df_content['article_id']))) # The number of unique articles on the IBM platform\n",
    "unique_users = len(list(set(no_nan['email'])))# The number of unique users\n",
    "user_article_interactions = len(df['article_id'])# The number of user-article interactions"
   ]
  },
  {
   "cell_type": "markdown",
   "metadata": {},
   "source": [
    "`4.` The cells below find the most viewed **article_id**, as well as how often it was viewed.  \n",
    "\n",
    "After talking to the company leaders, the `email_mapper` function was deemed a reasonable way to map users to ids.  There were a small number of null values, and it was found that all of these null values likely belonged to a single user (which is how they are stored using the function below)."
   ]
  },
  {
   "cell_type": "code",
   "execution_count": 9,
   "metadata": {},
   "outputs": [
    {
     "name": "stdout",
     "output_type": "stream",
     "text": [
      "The most viewed article was article 1429.0\n",
      "It was viewed 937 times.\n"
     ]
    }
   ],
   "source": [
    "most_viewed_article_id = str(df['article_id'].mode()[0])# The most viewed article in the dataset as a string with one value following the decimal \n",
    "max_views = df[df['article_id'] == df['article_id'].mode()[0]].shape[0] # The most viewed article in the dataset was viewed how many times?\n",
    "\n",
    "print('The most viewed article was article ' + str(most_viewed_article_id))\n",
    "print('It was viewed ' + str(max_views) + ' times.')"
   ]
  },
  {
   "cell_type": "code",
   "execution_count": 10,
   "metadata": {},
   "outputs": [
    {
     "data": {
      "text/html": [
       "<div>\n",
       "<style scoped>\n",
       "    .dataframe tbody tr th:only-of-type {\n",
       "        vertical-align: middle;\n",
       "    }\n",
       "\n",
       "    .dataframe tbody tr th {\n",
       "        vertical-align: top;\n",
       "    }\n",
       "\n",
       "    .dataframe thead th {\n",
       "        text-align: right;\n",
       "    }\n",
       "</style>\n",
       "<table border=\"1\" class=\"dataframe\">\n",
       "  <thead>\n",
       "    <tr style=\"text-align: right;\">\n",
       "      <th></th>\n",
       "      <th>article_id</th>\n",
       "      <th>title</th>\n",
       "      <th>user_id</th>\n",
       "    </tr>\n",
       "  </thead>\n",
       "  <tbody>\n",
       "    <tr>\n",
       "      <th>0</th>\n",
       "      <td>1430.0</td>\n",
       "      <td>using pixiedust for fast, flexible, and easier...</td>\n",
       "      <td>1</td>\n",
       "    </tr>\n",
       "    <tr>\n",
       "      <th>1</th>\n",
       "      <td>1314.0</td>\n",
       "      <td>healthcare python streaming application demo</td>\n",
       "      <td>2</td>\n",
       "    </tr>\n",
       "    <tr>\n",
       "      <th>2</th>\n",
       "      <td>1429.0</td>\n",
       "      <td>use deep learning for image classification</td>\n",
       "      <td>3</td>\n",
       "    </tr>\n",
       "    <tr>\n",
       "      <th>3</th>\n",
       "      <td>1338.0</td>\n",
       "      <td>ml optimization using cognitive assistant</td>\n",
       "      <td>4</td>\n",
       "    </tr>\n",
       "    <tr>\n",
       "      <th>4</th>\n",
       "      <td>1276.0</td>\n",
       "      <td>deploy your python model as a restful api</td>\n",
       "      <td>5</td>\n",
       "    </tr>\n",
       "  </tbody>\n",
       "</table>\n",
       "</div>"
      ],
      "text/plain": [
       "   article_id                                              title  user_id\n",
       "0      1430.0  using pixiedust for fast, flexible, and easier...        1\n",
       "1      1314.0       healthcare python streaming application demo        2\n",
       "2      1429.0         use deep learning for image classification        3\n",
       "3      1338.0          ml optimization using cognitive assistant        4\n",
       "4      1276.0          deploy your python model as a restful api        5"
      ]
     },
     "execution_count": 10,
     "metadata": {},
     "output_type": "execute_result"
    }
   ],
   "source": [
    "## No need to change the code here - this will be helpful for later parts of the notebook\n",
    "# Run this cell to map the user email to a user_id column and remove the email column\n",
    "\n",
    "def email_mapper():\n",
    "    coded_dict = dict()\n",
    "    cter = 1\n",
    "    email_encoded = []\n",
    "    \n",
    "    for val in df['email']:\n",
    "        if val not in coded_dict:\n",
    "            coded_dict[val] = cter\n",
    "            cter+=1\n",
    "        \n",
    "        email_encoded.append(coded_dict[val])\n",
    "    return email_encoded\n",
    "\n",
    "email_encoded = email_mapper()\n",
    "del df['email']\n",
    "df['user_id'] = email_encoded\n",
    "\n",
    "# show header\n",
    "df.head()"
   ]
  },
  {
   "cell_type": "code",
   "execution_count": 11,
   "metadata": {},
   "outputs": [
    {
     "name": "stdout",
     "output_type": "stream",
     "text": [
      "It looks like you have everything right here! Nice job!\n"
     ]
    }
   ],
   "source": [
    "## If you stored all your results in the variable names above, \n",
    "## you shouldn't need to change anything in this cell\n",
    "\n",
    "sol_1_dict = {\n",
    "    '`50% of individuals have _____ or fewer interactions.`': median_val,\n",
    "    '`The total number of user-article interactions in the dataset is ______.`': user_article_interactions,\n",
    "    '`The maximum number of user-article interactions by any 1 user is ______.`': max_views_by_user,\n",
    "    '`The most viewed article in the dataset was viewed _____ times.`': max_views,\n",
    "    '`The article_id of the most viewed article is ______.`': most_viewed_article_id,\n",
    "    '`The number of unique articles that have at least 1 rating ______.`': unique_articles,\n",
    "    '`The number of unique users in the dataset is ______`': unique_users,\n",
    "    '`The number of unique articles on the IBM platform`': total_articles\n",
    "}\n",
    "\n",
    "# Test your dictionary against the solution\n",
    "t.sol_1_test(sol_1_dict)"
   ]
  },
  {
   "cell_type": "markdown",
   "metadata": {},
   "source": [
    "### <a class=\"anchor\" id=\"Rank\">Part II: Rank-Based Recommendations</a>\n",
    "\n",
    "Unlike in the earlier lessons, we don't actually have ratings for whether a user liked an article or not.  We only know that a user has interacted with an article.  In these cases, the popularity of an article can really only be based on how often an article was interacted with.\n",
    "\n",
    "`1.` Fill in the function below to return the **n** top articles ordered with most interactions as the top. Test your function using the tests below."
   ]
  },
  {
   "cell_type": "code",
   "execution_count": 12,
   "metadata": {},
   "outputs": [],
   "source": [
    "def get_top_articles(n, df=df):\n",
    "    '''\n",
    "    INPUT:\n",
    "    n - (int) the number of top articles to return\n",
    "    df - (pandas dataframe) df as defined at the top of the notebook \n",
    "    \n",
    "    OUTPUT:\n",
    "    top_articles - (list) A list of the top 'n' article titles \n",
    "    \n",
    "    '''\n",
    "    # Your code here\n",
    "    num_views = df.groupby(['title']).size().sort_values(ascending = False)\n",
    "    top_articles = num_views.iloc[:n].index.values\n",
    "    return top_articles # Return the top article titles from df (not df_content)\n",
    "\n",
    "def get_top_article_ids(n, df=df):\n",
    "    '''\n",
    "    INPUT:\n",
    "    n - (int) the number of top articles to return\n",
    "    df - (pandas dataframe) df as defined at the top of the notebook \n",
    "    \n",
    "    OUTPUT:\n",
    "    top_articles - (list) A list of the top 'n' article ids \n",
    "    \n",
    "    '''\n",
    "    # Your code here \n",
    "    num_views = df.groupby(['article_id']).size().sort_values(ascending = False)\n",
    "    top_articles = num_views.iloc[:n].index.values\n",
    "    \n",
    "    top_articles = [str(i) for i in top_articles]\n",
    "    return top_articles # Return the top article ids"
   ]
  },
  {
   "cell_type": "code",
   "execution_count": 13,
   "metadata": {},
   "outputs": [
    {
     "name": "stdout",
     "output_type": "stream",
     "text": [
      "Your top_5 looks like the solution list! Nice job.\n",
      "Your top_10 looks like the solution list! Nice job.\n",
      "Your top_20 looks like the solution list! Nice job.\n"
     ]
    }
   ],
   "source": [
    "# Test your function by returning the top 5, 10, and 20 articles\n",
    "top_5 = get_top_articles(5)\n",
    "top_10 = get_top_articles(10)\n",
    "top_20 = get_top_articles(20)\n",
    "\n",
    "# Test each of your three lists from above\n",
    "t.sol_2_test(get_top_articles)"
   ]
  },
  {
   "cell_type": "markdown",
   "metadata": {},
   "source": [
    "### <a class=\"anchor\" id=\"User-User\">Part III: User-User Based Collaborative Filtering</a>\n",
    "\n",
    "\n",
    "`1.` The function below reformats the **df** dataframe to be shaped with users as the rows and articles as the columns.  \n",
    "\n",
    "* Each **user** only appears in each **row** once.\n",
    "\n",
    "\n",
    "* Each **article** only shows up in one **column**.  \n",
    "\n",
    "\n",
    "* **If a user has interacted with an article, there is a  1 where the user-row meets for that article-column**.  It does not matter how many times a user has interacted with the article, all entries where a user has interacted with an article are equal to 1.  \n",
    "\n",
    "\n",
    "* **If a user has not interacted with an item, there is a zero where the user-row meets for that article-column**. \n"
   ]
  },
  {
   "cell_type": "code",
   "execution_count": 14,
   "metadata": {},
   "outputs": [],
   "source": [
    "# create the user-article matrix with 1's and 0's\n",
    "\n",
    "def create_user_item_matrix(df):\n",
    "    '''\n",
    "    INPUT:\n",
    "    df - pandas dataframe with article_id, title, user_id columns\n",
    "    \n",
    "    OUTPUT:\n",
    "    user_item - user item matrix \n",
    "    \n",
    "    Description:\n",
    "    Return a matrix with user ids as rows and article ids on the columns with 1 values where a user interacted with \n",
    "    an article and a 0 otherwise\n",
    "    '''\n",
    "    # Fill in the function here\n",
    "    \n",
    "    df['interact'] = [1]*len(df['article_id'])\n",
    "    user_item_df = df[['article_id', 'user_id', 'interact']]\n",
    "    user_item_gb = user_item_df.groupby(['user_id','article_id'])['interact'].max().unstack(fill_value = 0)\n",
    "    user_item = pd.DataFrame(user_item_gb)\n",
    "\n",
    "    return user_item # return the user_item matrix \n",
    "\n",
    "user_item = create_user_item_matrix(df)"
   ]
  },
  {
   "cell_type": "code",
   "execution_count": 15,
   "metadata": {},
   "outputs": [
    {
     "name": "stdout",
     "output_type": "stream",
     "text": [
      "You have passed our quick tests!  Please proceed!\n"
     ]
    }
   ],
   "source": [
    "## Tests: You should just need to run this cell.  Don't change the code.\n",
    "assert user_item.shape[0] == 5149, \"Oops!  The number of users in the user-article matrix doesn't look right.\"\n",
    "assert user_item.shape[1] == 714, \"Oops!  The number of articles in the user-article matrix doesn't look right.\"\n",
    "assert user_item.sum(axis=1)[1] == 36, \"Oops!  The number of articles seen by user 1 doesn't look right.\"\n",
    "print(\"You have passed our quick tests!  Please proceed!\")"
   ]
  },
  {
   "cell_type": "markdown",
   "metadata": {},
   "source": [
    "`2.` The function below takes a user_id and provides an ordered list of the most similar users to that user (from most similar to least similar).  The returned result does not contain the provided user_id, as we know that each user is similar to him/herself. Because the results for each user here are binary, similarity is represented with a dot product."
   ]
  },
  {
   "cell_type": "code",
   "execution_count": 16,
   "metadata": {},
   "outputs": [],
   "source": [
    "def find_similar_users(user_id, user_item=user_item):\n",
    "    '''\n",
    "    INPUT:\n",
    "    user_id - (int) a user_id\n",
    "    user_item - (pandas dataframe) matrix of users by articles: \n",
    "                1's when a user has interacted with an article, 0 otherwise\n",
    "    \n",
    "    OUTPUT:\n",
    "    similar_users - (list) an ordered list where the closest users (largest dot product users)\n",
    "                    are listed first\n",
    "    \n",
    "    Description:\n",
    "    Computes the similarity of every pair of users based on the dot product\n",
    "    Returns an ordered list\n",
    "    \n",
    "    '''\n",
    "    # compute similarity of each user to the provided user\n",
    "    dot_products = []\n",
    "    user_item = np.array(user_item)\n",
    "    user_row = user_item[user_id -1]\n",
    "    \n",
    "    for i, j in list(enumerate(user_item)):\n",
    "        dot_products.append((i+1, user_row.dot(j.T)))\n",
    "    # sort by similarity\n",
    "    dot_products.sort(key=lambda x:x[1], reverse = True)\n",
    "    # create list of just the ids\n",
    "    # remove the own user's id\n",
    "    most_similar_users = [i[0] for i in dot_products if i[0] != user_id]\n",
    "    \n",
    "    \n",
    "    return most_similar_users # return a list of the users in order from most to least similar\n",
    "        "
   ]
  },
  {
   "cell_type": "code",
   "execution_count": 17,
   "metadata": {},
   "outputs": [
    {
     "name": "stdout",
     "output_type": "stream",
     "text": [
      "The 10 most similar users to user 1 are: [3933, 23, 3782, 203, 4459, 131, 3870, 46, 4201, 49]\n",
      "The 5 most similar users to user 3933 are: [1, 23, 3782, 203, 4459]\n",
      "The 3 most similar users to user 46 are: [4201, 23, 3782]\n"
     ]
    }
   ],
   "source": [
    "# Do a spot check of your function\n",
    "print(\"The 10 most similar users to user 1 are: {}\".format(find_similar_users(1)[:10]))\n",
    "print(\"The 5 most similar users to user 3933 are: {}\".format(find_similar_users(3933)[:5]))\n",
    "print(\"The 3 most similar users to user 46 are: {}\".format(find_similar_users(46)[:3]))"
   ]
  },
  {
   "cell_type": "markdown",
   "metadata": {},
   "source": [
    "`3.` Now that we have a function that provides the most similar users to each user, we will use these users to find articles you can recommend.  "
   ]
  },
  {
   "cell_type": "code",
   "execution_count": 18,
   "metadata": {},
   "outputs": [],
   "source": [
    "def get_article_names(article_ids, df=df):\n",
    "    '''\n",
    "    INPUT:\n",
    "    article_ids - (list) a list of article ids\n",
    "    df - (pandas dataframe) df as defined at the top of the notebook\n",
    "    \n",
    "    OUTPUT:\n",
    "    article_names - (list) a list of article names associated with the list of article ids \n",
    "                    (this is identified by the title column)\n",
    "    '''\n",
    "    # Your code here\n",
    "    subset_df = df[df['article_id'].isin(article_ids)]\n",
    "    article_names = list(set(subset_df['title'].reset_index(drop = True)))\n",
    "    return article_names # Return the article names associated with list of article ids\n",
    "\n",
    "\n",
    "def get_user_articles(user_id, user_item=user_item):\n",
    "    '''\n",
    "    INPUT:\n",
    "    user_id - (int) a user id\n",
    "    user_item - (pandas dataframe) matrix of users by articles: \n",
    "                1's when a user has interacted with an article, 0 otherwise\n",
    "    \n",
    "    OUTPUT:\n",
    "    article_ids - (list) a list of the article ids seen by the user\n",
    "    article_names - (list) a list of article names associated with the list of article ids \n",
    "                    (this is identified by the doc_full_name column in df_content)\n",
    "    \n",
    "    Description:\n",
    "    Provides a list of the article_ids and article titles that have been seen by a user\n",
    "    '''\n",
    "    # Your code here\n",
    "    user_subset = user_item.loc[user_id, :]\n",
    "    \n",
    "    has_read = user_subset > 0\n",
    "    article_ids = list(user_subset[has_read].index)\n",
    "    article_ids = [str(i) for i in article_ids]\n",
    "    article_names = get_article_names(article_ids)\n",
    "    return article_ids, article_names # return the ids and names\n",
    "\n",
    "\n",
    "def user_user_recs(user_id, m=10):\n",
    "    '''\n",
    "    INPUT:\n",
    "    user_id - (int) a user id\n",
    "    m - (int) the number of recommendations you want for the user\n",
    "    \n",
    "    OUTPUT:\n",
    "    recs - (list) a list of recommendations for the user\n",
    "    \n",
    "    Description:\n",
    "    Loops through the users based on closeness to the input user_id\n",
    "    For each user - finds articles the user hasn't seen before and provides them as recs\n",
    "    Does this until m recommendations are found\n",
    "    \n",
    "    Notes:\n",
    "    Users who are the same closeness are chosen arbitrarily as the 'next' user\n",
    "    \n",
    "    For the user where the number of recommended articles starts below m \n",
    "    and ends exceeding m, the last items are chosen arbitrarily\n",
    "    \n",
    "    '''\n",
    "    # Your code here\n",
    "    user_id = int(user_id)\n",
    "    similar_users = find_similar_users(user_id)\n",
    "    has_read = get_user_articles(user_id)[0]\n",
    "    \n",
    "    recs = []\n",
    "    for i in similar_users:\n",
    "        potential_reads = get_user_articles(i)[0]\n",
    "\n",
    "        has_not_read = list(np.setdiff1d(np.array(potential_reads),np.array(has_read)))\n",
    "    \n",
    "        for j in has_not_read:\n",
    "            if j not in recs:\n",
    "                recs.append(j) \n",
    "                if len(recs) >= m:\n",
    "                    return(recs)\n",
    "    # return your recommendations for this user_id    "
   ]
  },
  {
   "cell_type": "code",
   "execution_count": 19,
   "metadata": {},
   "outputs": [
    {
     "data": {
      "text/plain": [
       "['analyze facebook data using ibm watson and watson studio',\n",
       " 'analyze accident reports on amazon emr spark',\n",
       " '1448    i ranked every intro to data science course on...\\nName: title, dtype: object',\n",
       " 'airbnb data for analytics: vancouver listings',\n",
       " '520    using notebooks with pixiedust for fast, flexi...\\nName: title, dtype: object',\n",
       " 'airbnb data for analytics: mallorca reviews',\n",
       " 'recommender systems: approaches & algorithms',\n",
       " 'analyze energy consumption in buildings',\n",
       " 'a tensorflow regression model to predict house values',\n",
       " 'data tidying in data science experience']"
      ]
     },
     "execution_count": 19,
     "metadata": {},
     "output_type": "execute_result"
    }
   ],
   "source": [
    "# Check Results\n",
    "get_article_names(user_user_recs(1, 10)) # Return 10 recommendations for user 1\n"
   ]
  },
  {
   "cell_type": "code",
   "execution_count": 20,
   "metadata": {},
   "outputs": [
    {
     "name": "stdout",
     "output_type": "stream",
     "text": [
      "If this is all you see, you passed all of our tests!  Nice job!\n"
     ]
    }
   ],
   "source": [
    "# Test your functions here - No need to change this code - just run this cell\n",
    "assert set(get_article_names(['1024.0', '1176.0', '1305.0', '1314.0', '1422.0', '1427.0'])) == set(['using deep learning to reconstruct high-resolution audio', 'build a python app on the streaming analytics service', 'gosales transactions for naive bayes model', 'healthcare python streaming application demo', 'use r dataframes & ibm watson natural language understanding', 'use xgboost, scikit-learn & ibm watson machine learning apis']), \"Oops! Your the get_article_names function doesn't work quite how we expect.\"\n",
    "assert set(get_article_names(['1320.0', '232.0', '844.0'])) == set(['housing (2015): united states demographic measures','self-service data preparation with ibm data refinery','use the cloudant-spark connector in python notebook']), \"Oops! Your the get_article_names function doesn't work quite how we expect.\"\n",
    "assert set(get_user_articles(20)[0]) == set(['1320.0', '232.0', '844.0'])\n",
    "assert set(get_user_articles(20)[1]) == set(['housing (2015): united states demographic measures', 'self-service data preparation with ibm data refinery','use the cloudant-spark connector in python notebook'])\n",
    "assert set(get_user_articles(2)[0]) == set(['1024.0', '1176.0', '1305.0', '1314.0', '1422.0', '1427.0'])\n",
    "assert set(get_user_articles(2)[1]) == set(['using deep learning to reconstruct high-resolution audio', 'build a python app on the streaming analytics service', 'gosales transactions for naive bayes model', 'healthcare python streaming application demo', 'use r dataframes & ibm watson natural language understanding', 'use xgboost, scikit-learn & ibm watson machine learning apis'])\n",
    "print(\"If this is all you see, you passed all of our tests!  Nice job!\")"
   ]
  },
  {
   "cell_type": "markdown",
   "metadata": {},
   "source": [
    "`4.` Now we are going to improve the consistency of the **user_user_recs** function from above.  \n",
    "\n",
    "* Instead of arbitrarily choosing when we obtain users who are all the same closeness to a given user - we choose the users that have the most total article interactions before choosing those with fewer article interactions.\n",
    "\n",
    "\n",
    "* Instead of arbitrarily choosing articles from the user where the number of recommended articles starts below m and ends exceeding m, we now choose articles with the articles with the most total interactions before choosing those with fewer total interactions. This ranking should be  what would be obtained from the **top_articles** function you wrote earlier."
   ]
  },
  {
   "cell_type": "code",
   "execution_count": 21,
   "metadata": {},
   "outputs": [],
   "source": [
    "def find_similarities(user_id, user_item=user_item):\n",
    "    '''\n",
    "    INPUT:\n",
    "    user_id - (int) a user_id\n",
    "    user_item - (pandas dataframe) matrix of users by articles: \n",
    "                1's when a user has interacted with an article, 0 otherwise\n",
    "    \n",
    "    OUTPUT:\n",
    "    similar_users - (list) an ordered list where the closest users (largest dot product users)\n",
    "                    are listed first\n",
    "    \n",
    "    Description:\n",
    "    Computes the similarity of every pair of users based on the dot product\n",
    "    Returns an ordered list\n",
    "    \n",
    "    '''\n",
    "    # compute similarity of each user to the provided user\n",
    "    dot_products = []\n",
    "    user_item = np.array(user_item)\n",
    "    user_row = user_item[user_id -1]\n",
    "    \n",
    "    for i, j in list(enumerate(user_item)):\n",
    "        dot_products.append((i+1, user_row.dot(j.T)))\n",
    "    # sort by similarity\n",
    "    dot_products.sort(key=lambda x:x[1], reverse = True)\n",
    "    # create list of just the ids\n",
    "    # remove the own user's id\n",
    "    similarities = [i[1] for i in dot_products if i[0] != user_id]\n",
    "    \n",
    "    \n",
    "    return similarities # return a list of the users in order from most to least similar\n",
    "        \n",
    "\n",
    "def get_top_sorted_users(user_id, df=df, user_item=user_item):\n",
    "    '''\n",
    "    INPUT:\n",
    "    user_id - (int)\n",
    "    df - (pandas dataframe) df as defined at the top of the notebook \n",
    "    user_item - (pandas dataframe) matrix of users by articles: \n",
    "            1's when a user has interacted with an article, 0 otherwise\n",
    "    \n",
    "            \n",
    "    OUTPUT:\n",
    "    neighbors_df - (pandas dataframe) a dataframe with:\n",
    "                    neighbor_id - is a neighbor user_id\n",
    "                    similarity - measure of the similarity of each user to the provided user_id\n",
    "                    num_interactions - the number of articles viewed by the user - if a u\n",
    "                    \n",
    "    Other Details - sort the neighbors_df by the similarity and then by number of interactions where \n",
    "                    highest of each is higher in the dataframe\n",
    "     \n",
    "    '''\n",
    "    # Your code here\n",
    "    user_id = int(user_id)\n",
    "    similar_users = find_similar_users(user_id)\n",
    "    similarities = find_similarities(user_id)\n",
    "    \n",
    "    num_ints = []\n",
    "    for i in similar_users:\n",
    "        num_ints.append(len(get_user_articles(i)[0]))\n",
    "\n",
    "    neighbors_df = pd.DataFrame({\n",
    "        \n",
    "        'neighbor_id':similar_users,\n",
    "        'similarity': similarities,\n",
    "        'num_interactions': num_ints\n",
    "    })\n",
    "    neighbors_df = neighbors_df.sort_values(by=['similarity', 'num_interactions'], ascending=False).reset_index(drop = True)\n",
    "    return neighbors_df # Return the dataframe specified in the doc_string\n",
    "\n",
    "\n",
    "def user_user_recs_part2(user_id, m=10):\n",
    "    '''\n",
    "    INPUT:\n",
    "    user_id - (int) a user id\n",
    "    m - (int) the number of recommendations you want for the user\n",
    "    \n",
    "    OUTPUT:\n",
    "    recs - (list) a list of recommendations for the user by article id\n",
    "    rec_names - (list) a list of recommendations for the user by article title\n",
    "    \n",
    "    Description:\n",
    "    Loops through the users based on closeness to the input user_id\n",
    "    For each user - finds articles the user hasn't seen before and provides them as recs\n",
    "    Does this until m recommendations are found\n",
    "    \n",
    "    Notes:\n",
    "    * Choose the users that have the most total article interactions \n",
    "    before choosing those with fewer article interactions.\n",
    "\n",
    "    * Choose articles with the articles with the most total interactions \n",
    "    before choosing those with fewer total interactions. \n",
    "   \n",
    "    '''\n",
    "    # Your code here\n",
    "    \n",
    "    neighbors_df = get_top_sorted_users(user_id)\n",
    "    \n",
    "    similar_users = neighbors_df['neighbor_id']\n",
    "    has_read = get_user_articles(user_id)\n",
    "    \n",
    "    \n",
    "    recs = []\n",
    "    for i in similar_users:\n",
    "        potential_reads = get_user_articles(i)\n",
    "        \n",
    "        for_rec_names =dict(zip(potential_reads[0], potential_reads[1]))\n",
    "        has_not_read = list(np.setdiff1d(np.array(potential_reads[0]),np.array(has_read[0])))\n",
    "        \n",
    "        for j in has_not_read:\n",
    "            if j not in recs:\n",
    "                recs.append(j) \n",
    "                rec_names = []\n",
    "                if len(recs) >= m:\n",
    "                    for k in recs:\n",
    "                        rec_names.append(for_rec_names[k])\n",
    "                    return(recs, rec_names)\n",
    "          "
   ]
  },
  {
   "cell_type": "code",
   "execution_count": 22,
   "metadata": {},
   "outputs": [
    {
     "name": "stdout",
     "output_type": "stream",
     "text": [
      "The top 10 recommendations for user 20 are the following article ids:\n",
      "['1014.0', '1059.0', '109.0', '111.0', '1157.0', '1162.0', '1164.0', '1172.0', '1186.0', '12.0']\n",
      "\n",
      "The top 10 recommendations for user 20 are the following article names:\n",
      "['an introduction to stock market data analysis with r (part 1)', 'simple linear regression? do it the bayesian way', 'accelerate your workflow with dsx', 'statistical bias types explained (with examples)', \"feature importance and why it's important\", 'airbnb data for analytics: washington d.c. listings', 'deep learning with data science experience', '56594    lifelong (machine) learning: how automation ca...\\nName: title, dtype: object', 'intents & examples for ibm watson conversation', 'model bike sharing data with spss']\n"
     ]
    }
   ],
   "source": [
    "# Quick spot check - don't change this code - just use it to test your functions\n",
    "rec_ids, rec_names = user_user_recs_part2(20, 10)\n",
    "print(\"The top 10 recommendations for user 20 are the following article ids:\")\n",
    "print(rec_ids)\n",
    "print()\n",
    "print(\"The top 10 recommendations for user 20 are the following article names:\")\n",
    "print(rec_names)"
   ]
  },
  {
   "cell_type": "markdown",
   "metadata": {},
   "source": [
    "`5.` Use your functions from above to correctly fill in the solutions to the dictionary below.  Then test your dictionary against the solution.  Provide the code you need to answer each following the comments below."
   ]
  },
  {
   "cell_type": "code",
   "execution_count": 23,
   "metadata": {},
   "outputs": [],
   "source": [
    "### Tests with a dictionary of results\n",
    "\n",
    "user1_most_sim = get_top_sorted_users(1)['neighbor_id'][0]# Find the user that is most similar to user 1 \n",
    "user131_10th_sim =get_top_sorted_users(131)['neighbor_id'][10] # Find the 10th most similar user to user 131"
   ]
  },
  {
   "cell_type": "code",
   "execution_count": 24,
   "metadata": {},
   "outputs": [
    {
     "name": "stdout",
     "output_type": "stream",
     "text": [
      "This all looks good!  Nice job!\n"
     ]
    }
   ],
   "source": [
    "## Dictionary Test Here\n",
    "sol_5_dict = {\n",
    "    'The user that is most similar to user 1.': (user1_most_sim), \n",
    "    'The user that is the 10th most similar to user 131': (user131_10th_sim),\n",
    "}\n",
    "\n",
    "t.sol_5_test(sol_5_dict)"
   ]
  },
  {
   "cell_type": "markdown",
   "metadata": {},
   "source": [
    "`6.`**NEW USER RECOMMENDATIONS:**\n",
    "\n",
    "If there was a new user we have two options.  The first is to provide them with the overall most top ranked articles, as is possible with our function \"get_top_article_ids\".  The second is to provide them with some kind of filter or avenue of communicating to us what type of content they'd be interested in.  This will give us the ability to provide content-based recommendations, which ought to be more personalized and therefore superior to rank-based"
   ]
  },
  {
   "cell_type": "markdown",
   "metadata": {},
   "source": [
    "`7.` Using our existing functions, we provide the top 10 recommended articles for the new user below. "
   ]
  },
  {
   "cell_type": "code",
   "execution_count": 25,
   "metadata": {},
   "outputs": [],
   "source": [
    "new_user = '0.0'\n",
    "\n",
    "new_user_recs = get_top_article_ids(10)"
   ]
  },
  {
   "cell_type": "code",
   "execution_count": 26,
   "metadata": {},
   "outputs": [
    {
     "name": "stdout",
     "output_type": "stream",
     "text": [
      "That's right!  Nice job!\n"
     ]
    }
   ],
   "source": [
    "assert set(new_user_recs) == set(['1314.0','1429.0','1293.0','1427.0','1162.0','1364.0','1304.0','1170.0','1431.0','1330.0']), \"Oops!  It makes sense that in this case we would want to recommend the most popular articles, because we don't know anything about these users.\"\n",
    "\n",
    "print(\"That's right!  Nice job!\")"
   ]
  },
  {
   "cell_type": "markdown",
   "metadata": {},
   "source": [
    "### <a class=\"anchor\" id=\"Content-Recs\">Part IV: Content Based Recommendations (EXTRA - NOT REQUIRED)</a>\n"
   ]
  },
  {
   "cell_type": "code",
   "execution_count": 27,
   "metadata": {},
   "outputs": [],
   "source": [
    "def tokenize (txt):  \n",
    "    '''\n",
    "    INPUT: \n",
    "    a line of text\n",
    "    \n",
    "    OUTPUT: \n",
    "    that same text cleaned:  \n",
    "    \n",
    "    STEPS:\n",
    "        1. creates empty string to fill\n",
    "        2. tokenizes and pos_tags (easier to find critical words)\n",
    "        3. lemmatizes all nouns\n",
    "        4. doesn't lemmatize adj bc they don't change \n",
    "        5. only appends and lemmatizes longer verbs (theory that shorter verb forms are less regular and therefore more              likely to be common words/stop words)\n",
    "    \n",
    "    '''\n",
    "    \n",
    "    translator = str.maketrans('','', sub('\\#', ' ', punctuation))\n",
    "\n",
    "     \n",
    "    n = txt.split()\n",
    "    txt = \"\"\n",
    "    for z in n:\n",
    "        z = z.lower()\n",
    "        s = z.translate(str.maketrans(translator))\n",
    "        txt = txt + \" \" + s\n",
    "        \n",
    "    new_txt = \"\"\n",
    "    tokens = word_tokenize(txt)\n",
    "    pos_tagged = pos_tag(tokens)\n",
    "    for z in pos_tagged:\n",
    "        if (('NN' in z[1])):\n",
    "            lem = lemma.lemmatize(z[0])\n",
    "            new_txt= new_txt + \" \" + str(lem.lower())\n",
    "        elif ('JJ' in z[1]):\n",
    "            new_txt= new_txt + \" \" + str(z[0].lower())\n",
    "        elif ('VB' in z[1]) and (len(z[0]) > 3):\n",
    "            lem = lemma.lemmatize(z[0], 'v')\n",
    "            new_txt= new_txt + \" \" + str(lem.lower())\n",
    "            \n",
    "\n",
    "    \n",
    "   \n",
    "    return(new_txt)\n",
    "    pass\n",
    "\n",
    "def create_vector_rep(all_txts, n_components = 5, model_filepath = './IBMWatson.pkl'):\n",
    "    '''\n",
    "    INPUT: list of all texts, number of components for LDA\n",
    "    \n",
    "    OUTPUT:a list of dense vectors for each text\n",
    "    \n",
    "    Notes:  chose to not use a pipeline, because it is only two steps\n",
    "    and grid_search is not applicable in this case (not classification or regression)\n",
    "    '''\n",
    "    clean_txts = [tokenize(i) for i in all_txts]\n",
    "    print('tokenizing complete')\n",
    "    \n",
    "    pipeline = Pipeline([\n",
    "        ('tfidf_vec', TfidfVectorizer()),\n",
    "        ('clf',  LatentDirichletAllocation(n_components=n_components, max_iter=25,\n",
    "                                learning_method='online',\n",
    "                                learning_offset=50.,\n",
    "                                random_state=0))\n",
    "        ])\n",
    "    txts_dense = pipeline.fit_transform(clean_txts)\n",
    "    save_model(pipeline, model_filepath)\n",
    "    print('lda fit complete')\n",
    "    return(txts_dense)\n",
    "\n",
    "def create_similarity_mat(list_vecs):\n",
    "    '''\n",
    "    INPUT: a list of vectors\n",
    "    \n",
    "    OUTPUT: similar to a correlation matrix, but with the cosine similarity \n",
    "            instead of correlation filling the cells\n",
    "    '''\n",
    "    return(cosine_similarity(list_vecs, Y=None, dense_output=False))\n",
    "\n",
    "def get_shortlist(df_content = df_content, df = df):\n",
    "    '''\n",
    "    INPUT: df_content, df as specified above \n",
    "    \n",
    "    OUTPUT: a txt_df that drops df_content duplicates and incorprates text from txt_df\n",
    "    '''\n",
    "    df = df[['article_id', 'title']].drop_duplicates(subset = ['article_id'], keep = 'first', ignore_index = True)\n",
    "    txt_df = df.merge(df_content, left_on = 'article_id', right_on = 'article_id', how = 'left')\n",
    "    return(txt_df)\n",
    "    \n",
    "    \n",
    "def get_text_by_id(article_ids, df_content = df_content, df = df):\n",
    "    '''\n",
    "    INPUT: list of article_ids, df_content, df as specified above\n",
    "    \n",
    "    OUTPUT: df with relevant text columns concatenated together\n",
    "    '''\n",
    "    txt_df = get_shortlist()\n",
    "    \n",
    "    txt_df = txt_df[txt_df['article_id'].isin(article_ids)]\n",
    "    txt_df = txt_df.fillna('')\n",
    "    txt_df[\"all_txt\"] = txt_df[['title','doc_description', 'doc_full_name']].agg(' '.join, axis=1)\n",
    "    txt_df_lean = txt_df[['article_id', 'all_txt']]\n",
    "    return(txt_df_lean)\n",
    "\n",
    "\n",
    "def make_content_map(model_path, article_ids= df['article_id']):\n",
    "    '''\n",
    "    INPUT:\n",
    "    list of titles read for a given user_id\n",
    "    \n",
    "    OUTPUT:\n",
    "    list of m length top content recommendations\n",
    "    '''\n",
    "    full_txts = get_text_by_id(article_ids)\n",
    "    \n",
    "    print('text df retrieved')\n",
    "    vecs = create_vector_rep(full_txts['all_txt'])\n",
    "    sim_mat = create_similarity_mat(vecs)\n",
    "    \n",
    "    sim_mat_df = pd.DataFrame(sim_mat)\n",
    "    \n",
    "    sim_mat_df.index = full_txts['article_id']\n",
    "    sim_mat_df.columns = full_txts['article_id']\n",
    "    \n",
    "    sim_mat_df.to_csv(model_path)\n",
    "\n",
    "    return(sim_mat_df)\n",
    "\n",
    "def save_model(model, model_filepath):\n",
    "    '''\n",
    "    INPUT: model and filepath\n",
    "    \n",
    "    OUTPUT: None\n",
    "    Saves model at given file path\n",
    "    '''\n",
    "    with open(model_filepath, 'wb') as f:\n",
    "        pickle.dump(model, f)\n",
    "    pass\n",
    "\n",
    "\n",
    "def to_int(ls):\n",
    "    '''\n",
    "    Written to deal with typing issue in importing similarty matrix.  Turns list of strings of floats to ints\n",
    "    '''\n",
    "    return([int(i.replace('.0', '')) for i in ls])\n",
    "\n",
    "def make_content_recs(m, df = df, user_id = None, art_list = None,matrix_path = None):\n",
    "    '''\n",
    "    INPUT: number of recs(m), df as df, userid or art_list, and model save path\n",
    "    \n",
    "    OUTPUT:content recommendations of length m\n",
    "    \n",
    "    STEPS: \n",
    "        1. if user_id is given, get the articles the user has read, if not set article_ids to list passed\n",
    "        2. if no matrix path is given, it will be assumed to use the previously saved matrix, will convert appropriately\n",
    "        3. else, uses make_content_map to generate similarity matrix\n",
    "        4. iterates through user article_ids, and creates list of rows containing that ids similarity to others\n",
    "        5. drops columns of article_ids already read by user\n",
    "        6. sums all cols and sorts for max similarity\n",
    "        7. returns m number of recs\n",
    "    '''\n",
    "   \n",
    "    \n",
    "    if user_id != None:\n",
    "        article_ids = get_user_articles(user_id)[0]\n",
    "        print('article ids retrieved')\n",
    "    elif len(art_list) > 0:\n",
    "        article_ids = art_list\n",
    "    else:\n",
    "        print('Fail')\n",
    "    \n",
    "    if matrix_path == None:\n",
    "        txt_df = get_shortlist()\n",
    "        sim_mat_df = pd.read_csv('./similarity_matrix.csv', dtype = float)\n",
    "        sim_mat_df = sim_mat_df.set_index('article_id', drop = True)\n",
    "        new_index = to_int([str(i) for i in txt_df['article_id']])\n",
    "        sim_mat_df.columns = to_int([str(i) for i in txt_df['article_id']])\n",
    "        sim_mat_df.index.name = None\n",
    "        sim_mat_df.index = new_index\n",
    "        \n",
    "        print('content map loaded')\n",
    "    else:\n",
    "        sim_mat_df = make_content_map(matrix_path)\n",
    "        print('content map made')\n",
    "        \n",
    "    article_ids = to_int(article_ids)\n",
    "    \n",
    "    sim_scores = []\n",
    "    for i in article_ids:\n",
    "        sim_scores.append(sim_mat_df[sim_mat_df.index == int(i)])\n",
    "        \n",
    "    sim_scores_df = pd.concat(sim_scores, axis = 0)\n",
    "    \n",
    "    sim_scores_df = sim_scores_df.drop(article_ids, axis = 1)\n",
    "    \n",
    "    sim_scores_agg = list(sim_scores_df.sum(axis=0))\n",
    "    \n",
    "    sim_dict = dict(zip(sim_scores_df.columns, sim_scores_agg))\n",
    "    \n",
    "    sorted_sim = {k: v for k, v in sorted(sim_dict.items(), key=lambda item: item[1], reverse = True)}\n",
    "    print('articles sorted')\n",
    "    recs = list(sorted_sim.keys())[:m]\n",
    "  \n",
    "    return(recs)\n",
    "\n",
    "def article_id_to_title(article_id, df = df):\n",
    "    '''\n",
    "    INPUT: given article id\n",
    "    OUTPUT: corresponding title\n",
    "    '''\n",
    "    if isinstance(article_id, str):\n",
    "        article_id = float(article_id)\n",
    "    return(list(df[df['article_id']== article_id]['title'])[0])"
   ]
  },
  {
   "cell_type": "markdown",
   "metadata": {},
   "source": [
    "`2.` **EXPLANATION OF CONTENT-BASED RECOMMENDATION.**\n",
    "\n",
    "* First it must create a space that understands the relationship between any given text\n",
    "* Because there is not a ton of data and it tends to be in rather short sentences and specialized nature, here I used tfidf vectorization\n",
    "* Since tf-idf vectorization leaves you with rather sparse matrices, I used latent dirichlet allocation to produce dense vectors representing the space in question.\n",
    "* The only use of this vectors is their relative distance from each other, so I saved a similarity matrix, where each cell represents the cosine similarity between the row and column\n",
    "* This enables me to drop columns that the user has already read, but keep the row values, so when I sum those rows, the highest scoring ones ought to be the most similar\n",
    "* I believe the use of a matrix in this way is novel, (at least to my eyes) but it is possible it is not.\n",
    "* I think this could be improved if it were tied to a more robust language model.  For example, if one had access to full texts etcs, better word embeddings could be trained which would improve sensitivity and accuracy. \n"
   ]
  },
  {
   "cell_type": "code",
   "execution_count": 28,
   "metadata": {},
   "outputs": [
    {
     "name": "stdout",
     "output_type": "stream",
     "text": [
      "content map loaded\n",
      "articles sorted\n",
      "\n",
      "title 1427: use xgboost, scikit-learn & ibm watson machine learning apis\n",
      "\n",
      "id: 297\n",
      "title: dimensionality reduction algorithms\n",
      "id: 500\n",
      "title: the difference between ai, machine learning, and deep learning?\n",
      "id: 1297\n",
      "title: from local spark mllib model to cloud with watson machine learning\n",
      "id: 1363\n",
      "title: predict loan applicant behavior with tensorflow neural networking\n",
      "id: 1293\n",
      "title: finding optimal locations of new store using decision optimization\n"
     ]
    }
   ],
   "source": [
    "# make recommendations for a brand new user\n",
    "#without more information on a brand new user, I believe we're stuck giving them the top article ids.\n",
    "new_user_recs = get_top_article_ids(10) \n",
    "\n",
    "# make a recommendations for a user who only has interacted with article id '1427.0'\n",
    "\n",
    "recs_1427 = make_content_recs(m = 5, art_list = ['1427'])\n",
    "print()\n",
    "print('title 1427: ' + article_id_to_title('1427'))\n",
    "print()\n",
    "for i in recs_1427:\n",
    "    print('id: ' + str(i))\n",
    "    print('title: ' + article_id_to_title((i)))"
   ]
  },
  {
   "cell_type": "markdown",
   "metadata": {},
   "source": [
    "### <a class=\"anchor\" id=\"Matrix-Fact\">Part V: Matrix Factorization</a>\n",
    "\n",
    "Matrix factorization leverages the idea of 'latent factors' or 'latent features' to improve recommendations.  These latent features represent \"latent\" commonalities between various topics.  Using SVD, one can obtain relationships between users and latent topics (u), and latent topics and articles (v.T). Because of the algebraic relationship between the three matrices produced by SVD, one can then take two nested dot products (np.dot(np.dot(u, s), v.T))) to reconstruct the matrix or provide predictions.  Because this method relies on what everyone else in the matrix is doing, it is a form of collaborative filtering.\n",
    "\n",
    "**In this case we are able to use SVD and not a modification(like FunkSVD) because there are no missing values.**\n",
    "\n",
    "`1.` We already created a **user_item** matrix above in **question 1** of **Part III** above.  This just requires that we run the cells to get things set up for the rest of **Part V** of the notebook. "
   ]
  },
  {
   "cell_type": "code",
   "execution_count": 29,
   "metadata": {},
   "outputs": [],
   "source": [
    "# Load the matrix here\n",
    "user_item_matrix = pd.read_pickle('user_item_matrix.p')"
   ]
  },
  {
   "cell_type": "code",
   "execution_count": 30,
   "metadata": {},
   "outputs": [
    {
     "data": {
      "text/html": [
       "<div>\n",
       "<style scoped>\n",
       "    .dataframe tbody tr th:only-of-type {\n",
       "        vertical-align: middle;\n",
       "    }\n",
       "\n",
       "    .dataframe tbody tr th {\n",
       "        vertical-align: top;\n",
       "    }\n",
       "\n",
       "    .dataframe thead th {\n",
       "        text-align: right;\n",
       "    }\n",
       "</style>\n",
       "<table border=\"1\" class=\"dataframe\">\n",
       "  <thead>\n",
       "    <tr style=\"text-align: right;\">\n",
       "      <th>article_id</th>\n",
       "      <th>0.0</th>\n",
       "      <th>100.0</th>\n",
       "      <th>1000.0</th>\n",
       "      <th>1004.0</th>\n",
       "      <th>1006.0</th>\n",
       "      <th>1008.0</th>\n",
       "      <th>101.0</th>\n",
       "      <th>1014.0</th>\n",
       "      <th>1015.0</th>\n",
       "      <th>1016.0</th>\n",
       "      <th>...</th>\n",
       "      <th>977.0</th>\n",
       "      <th>98.0</th>\n",
       "      <th>981.0</th>\n",
       "      <th>984.0</th>\n",
       "      <th>985.0</th>\n",
       "      <th>986.0</th>\n",
       "      <th>990.0</th>\n",
       "      <th>993.0</th>\n",
       "      <th>996.0</th>\n",
       "      <th>997.0</th>\n",
       "    </tr>\n",
       "    <tr>\n",
       "      <th>user_id</th>\n",
       "      <th></th>\n",
       "      <th></th>\n",
       "      <th></th>\n",
       "      <th></th>\n",
       "      <th></th>\n",
       "      <th></th>\n",
       "      <th></th>\n",
       "      <th></th>\n",
       "      <th></th>\n",
       "      <th></th>\n",
       "      <th></th>\n",
       "      <th></th>\n",
       "      <th></th>\n",
       "      <th></th>\n",
       "      <th></th>\n",
       "      <th></th>\n",
       "      <th></th>\n",
       "      <th></th>\n",
       "      <th></th>\n",
       "      <th></th>\n",
       "      <th></th>\n",
       "    </tr>\n",
       "  </thead>\n",
       "  <tbody>\n",
       "    <tr>\n",
       "      <th>1</th>\n",
       "      <td>0.0</td>\n",
       "      <td>0.0</td>\n",
       "      <td>0.0</td>\n",
       "      <td>0.0</td>\n",
       "      <td>0.0</td>\n",
       "      <td>0.0</td>\n",
       "      <td>0.0</td>\n",
       "      <td>0.0</td>\n",
       "      <td>0.0</td>\n",
       "      <td>0.0</td>\n",
       "      <td>...</td>\n",
       "      <td>0.0</td>\n",
       "      <td>0.0</td>\n",
       "      <td>1.0</td>\n",
       "      <td>0.0</td>\n",
       "      <td>0.0</td>\n",
       "      <td>0.0</td>\n",
       "      <td>0.0</td>\n",
       "      <td>0.0</td>\n",
       "      <td>0.0</td>\n",
       "      <td>0.0</td>\n",
       "    </tr>\n",
       "    <tr>\n",
       "      <th>2</th>\n",
       "      <td>0.0</td>\n",
       "      <td>0.0</td>\n",
       "      <td>0.0</td>\n",
       "      <td>0.0</td>\n",
       "      <td>0.0</td>\n",
       "      <td>0.0</td>\n",
       "      <td>0.0</td>\n",
       "      <td>0.0</td>\n",
       "      <td>0.0</td>\n",
       "      <td>0.0</td>\n",
       "      <td>...</td>\n",
       "      <td>0.0</td>\n",
       "      <td>0.0</td>\n",
       "      <td>0.0</td>\n",
       "      <td>0.0</td>\n",
       "      <td>0.0</td>\n",
       "      <td>0.0</td>\n",
       "      <td>0.0</td>\n",
       "      <td>0.0</td>\n",
       "      <td>0.0</td>\n",
       "      <td>0.0</td>\n",
       "    </tr>\n",
       "    <tr>\n",
       "      <th>3</th>\n",
       "      <td>0.0</td>\n",
       "      <td>0.0</td>\n",
       "      <td>0.0</td>\n",
       "      <td>0.0</td>\n",
       "      <td>0.0</td>\n",
       "      <td>0.0</td>\n",
       "      <td>0.0</td>\n",
       "      <td>0.0</td>\n",
       "      <td>0.0</td>\n",
       "      <td>0.0</td>\n",
       "      <td>...</td>\n",
       "      <td>1.0</td>\n",
       "      <td>0.0</td>\n",
       "      <td>0.0</td>\n",
       "      <td>0.0</td>\n",
       "      <td>0.0</td>\n",
       "      <td>0.0</td>\n",
       "      <td>0.0</td>\n",
       "      <td>0.0</td>\n",
       "      <td>0.0</td>\n",
       "      <td>0.0</td>\n",
       "    </tr>\n",
       "    <tr>\n",
       "      <th>4</th>\n",
       "      <td>0.0</td>\n",
       "      <td>0.0</td>\n",
       "      <td>0.0</td>\n",
       "      <td>0.0</td>\n",
       "      <td>0.0</td>\n",
       "      <td>0.0</td>\n",
       "      <td>0.0</td>\n",
       "      <td>0.0</td>\n",
       "      <td>0.0</td>\n",
       "      <td>0.0</td>\n",
       "      <td>...</td>\n",
       "      <td>0.0</td>\n",
       "      <td>0.0</td>\n",
       "      <td>0.0</td>\n",
       "      <td>0.0</td>\n",
       "      <td>0.0</td>\n",
       "      <td>0.0</td>\n",
       "      <td>0.0</td>\n",
       "      <td>0.0</td>\n",
       "      <td>0.0</td>\n",
       "      <td>0.0</td>\n",
       "    </tr>\n",
       "    <tr>\n",
       "      <th>5</th>\n",
       "      <td>0.0</td>\n",
       "      <td>0.0</td>\n",
       "      <td>0.0</td>\n",
       "      <td>0.0</td>\n",
       "      <td>0.0</td>\n",
       "      <td>0.0</td>\n",
       "      <td>0.0</td>\n",
       "      <td>0.0</td>\n",
       "      <td>0.0</td>\n",
       "      <td>0.0</td>\n",
       "      <td>...</td>\n",
       "      <td>0.0</td>\n",
       "      <td>0.0</td>\n",
       "      <td>0.0</td>\n",
       "      <td>0.0</td>\n",
       "      <td>0.0</td>\n",
       "      <td>0.0</td>\n",
       "      <td>0.0</td>\n",
       "      <td>0.0</td>\n",
       "      <td>0.0</td>\n",
       "      <td>0.0</td>\n",
       "    </tr>\n",
       "  </tbody>\n",
       "</table>\n",
       "<p>5 rows × 714 columns</p>\n",
       "</div>"
      ],
      "text/plain": [
       "article_id  0.0  100.0  1000.0  1004.0  1006.0  1008.0  101.0  1014.0  1015.0  \\\n",
       "user_id                                                                         \n",
       "1           0.0    0.0     0.0     0.0     0.0     0.0    0.0     0.0     0.0   \n",
       "2           0.0    0.0     0.0     0.0     0.0     0.0    0.0     0.0     0.0   \n",
       "3           0.0    0.0     0.0     0.0     0.0     0.0    0.0     0.0     0.0   \n",
       "4           0.0    0.0     0.0     0.0     0.0     0.0    0.0     0.0     0.0   \n",
       "5           0.0    0.0     0.0     0.0     0.0     0.0    0.0     0.0     0.0   \n",
       "\n",
       "article_id  1016.0  ...  977.0  98.0  981.0  984.0  985.0  986.0  990.0  \\\n",
       "user_id             ...                                                   \n",
       "1              0.0  ...    0.0   0.0    1.0    0.0    0.0    0.0    0.0   \n",
       "2              0.0  ...    0.0   0.0    0.0    0.0    0.0    0.0    0.0   \n",
       "3              0.0  ...    1.0   0.0    0.0    0.0    0.0    0.0    0.0   \n",
       "4              0.0  ...    0.0   0.0    0.0    0.0    0.0    0.0    0.0   \n",
       "5              0.0  ...    0.0   0.0    0.0    0.0    0.0    0.0    0.0   \n",
       "\n",
       "article_id  993.0  996.0  997.0  \n",
       "user_id                          \n",
       "1             0.0    0.0    0.0  \n",
       "2             0.0    0.0    0.0  \n",
       "3             0.0    0.0    0.0  \n",
       "4             0.0    0.0    0.0  \n",
       "5             0.0    0.0    0.0  \n",
       "\n",
       "[5 rows x 714 columns]"
      ]
     },
     "execution_count": 30,
     "metadata": {},
     "output_type": "execute_result"
    }
   ],
   "source": [
    "# quick look at the matrix\n",
    "user_item_matrix.head()"
   ]
  },
  {
   "cell_type": "markdown",
   "metadata": {},
   "source": [
    "`2.` In this situation, we use Singular Value Decomposition from [numpy](https://docs.scipy.org/doc/numpy-1.14.0/reference/generated/numpy.linalg.svd.html) on the user-item matrix.  Use the cell to perform SVD, and explain why this is different than in the lesson."
   ]
  },
  {
   "cell_type": "code",
   "execution_count": 32,
   "metadata": {},
   "outputs": [],
   "source": [
    "# Perform SVD on the User-Item Matrix Here\n",
    "#this always breaks the first time, but then works\n",
    "\n",
    "u, s, vt = np.linalg.svd(user_item_matrix)# use the built in to get the three matrices"
   ]
  },
  {
   "cell_type": "markdown",
   "metadata": {},
   "source": [
    "In the lesson we were unable to use the np import because we had missingness in our matrix"
   ]
  },
  {
   "cell_type": "markdown",
   "metadata": {},
   "source": [
    "`3.` Now for the tricky part, how do we choose the number of latent features to use?  Running the below cell, you can see that as the number of latent features increases, we obtain a lower error rate on making predictions for the 1 and 0 values in the user-item matrix.  "
   ]
  },
  {
   "cell_type": "code",
   "execution_count": 33,
   "metadata": {},
   "outputs": [
    {
     "data": {
      "image/png": "[encoded data removed]",
      "text/plain": [
       "<matplotlib.figure.Figure at 0x2504d5c8e48>"
      ]
     },
     "metadata": {},
     "output_type": "display_data"
    }
   ],
   "source": [
    "num_latent_feats = np.arange(10,700+10,20)\n",
    "sum_errs = []\n",
    "\n",
    "for k in num_latent_feats:\n",
    "    # restructure with k latent features\n",
    "    s_new, u_new, vt_new = np.diag(s[:k]), u[:, :k], vt[:k, :]\n",
    "    \n",
    "    # take dot product\n",
    "    user_item_est = np.around(np.dot(np.dot(u_new, s_new), vt_new))\n",
    "    \n",
    "    # compute error for each prediction to actual value\n",
    "    diffs = np.subtract(user_item_matrix, user_item_est)\n",
    "    \n",
    "    # total errors and keep track of them\n",
    "    err = np.sum(np.sum(np.abs(diffs)))\n",
    "    sum_errs.append(err)\n",
    "    \n",
    "    \n",
    "plt.plot(num_latent_feats, 1 - np.array(sum_errs)/df.shape[0]);\n",
    "plt.xlabel('Number of Latent Features');\n",
    "plt.ylabel('Accuracy');\n",
    "plt.title('Accuracy vs. Number of Latent Features');"
   ]
  },
  {
   "cell_type": "markdown",
   "metadata": {},
   "source": [
    "`4.` From the above, we can't really be sure how many features to use, because simply having a better way to predict the 1's and 0's of the matrix doesn't exactly give us an indication of if we are able to make good recommendations.  Instead, we might split our dataset into a training and test set of data, as shown in the cell below.  \n",
    "\n",
    "Use the code from question 3 to understand the impact on accuracy of the training and test sets of data with different numbers of latent features. Using the split below: \n",
    "\n",
    "* How many users can we make predictions for in the test set?  \n",
    "* How many users are we not able to make predictions for because of the cold start problem?\n",
    "* How many articles can we make predictions for in the test set?  \n",
    "* How many articles are we not able to make predictions for because of the cold start problem?\n",
    "\n",
    "(see 2 cells down for answers)"
   ]
  },
  {
   "cell_type": "code",
   "execution_count": 34,
   "metadata": {},
   "outputs": [
    {
     "name": "stderr",
     "output_type": "stream",
     "text": [
      "C:\\Users\\madke\\Anaconda3\\lib\\site-packages\\ipykernel_launcher.py:17: SettingWithCopyWarning: \n",
      "A value is trying to be set on a copy of a slice from a DataFrame.\n",
      "Try using .loc[row_indexer,col_indexer] = value instead\n",
      "\n",
      "See the caveats in the documentation: https://pandas.pydata.org/pandas-docs/stable/user_guide/indexing.html#returning-a-view-versus-a-copy\n"
     ]
    }
   ],
   "source": [
    "df_train = df.head(40000)\n",
    "df_test = df.tail(5993)\n",
    "\n",
    "\n",
    "def create_test_and_train_user_item(df_train, df_test):\n",
    "    '''\n",
    "    INPUT:\n",
    "    df_train - training dataframe\n",
    "    df_test - test dataframe\n",
    "    \n",
    "    OUTPUT:\n",
    "    user_item_train - a user-item matrix of the training dataframe \n",
    "                      (unique users for each row and unique articles for each column)\n",
    "    user_item_test - a user-item matrix of the testing dataframe \n",
    "                    (unique users for each row and unique articles for each column)\n",
    "    test_idx - all of the test user ids\n",
    "    test_arts - all of the test article ids\n",
    "    \n",
    "    '''\n",
    "    # Your code here\n",
    "    user_item_train = create_user_item_matrix(df_train)\n",
    "    user_item_test =create_user_item_matrix(df_test)\n",
    "    test_idx = user_item_test.index\n",
    "    test_arts = user_item_test.columns\n",
    "    \n",
    "    return user_item_train, user_item_test, test_idx, test_arts\n",
    "\n",
    "user_item_train, user_item_test, test_idx, test_arts = create_test_and_train_user_item(df_train, df_test)"
   ]
  },
  {
   "cell_type": "code",
   "execution_count": 35,
   "metadata": {},
   "outputs": [
    {
     "name": "stdout",
     "output_type": "stream",
     "text": [
      "how many users can we make predictions for: 20\n",
      "how many articles can we make predictions for: 574\n",
      "how many users can we not make predictions for: 662\n",
      "how many articles can we not make predictions for: 0\n"
     ]
    }
   ],
   "source": [
    "user_items_shared =user_item_train[user_item_train.index.isin(user_item_test.index)]\n",
    "user_items_shared =user_items_shared.loc[:,user_item_train.columns.isin(user_item_test.columns)]\n",
    "print('how many users can we make predictions for: ' + str(user_items_shared.shape[0]))\n",
    "\n",
    "diff_articles = user_item_train.shape[1] - user_items_shared.shape[1]\n",
    "\n",
    "#how many columns shared\n",
    "print('how many articles can we make predictions for: ' + str(user_item_train.shape[1] - diff_articles))\n",
    "\n",
    "user_items_not_shared = user_item_test.shape[0] - user_items_shared.shape[0]\n",
    "\n",
    "print('how many users can we not make predictions for: ' + str(user_items_not_shared))\n",
    "\n",
    "\n",
    "art_items_not_shared = user_item_test.shape[1] - user_items_shared.shape[1]\n",
    "\n",
    "print('how many articles can we not make predictions for: ' + str(art_items_not_shared))"
   ]
  },
  {
   "cell_type": "code",
   "execution_count": 36,
   "metadata": {},
   "outputs": [
    {
     "name": "stdout",
     "output_type": "stream",
     "text": [
      "Awesome job!  That's right!  All of the test movies are in the training data, but there are only 20 test users that were also in the training set.  All of the other users that are in the test set we have no data on.  Therefore, we cannot make predictions for these users using SVD.\n"
     ]
    }
   ],
   "source": [
    "# Replace the values in the dictionary below\n",
    "a = 662 \n",
    "b = 574 \n",
    "c = 20 \n",
    "d = 0 \n",
    "\n",
    "\n",
    "sol_4_dict = {\n",
    "    'How many users can we make predictions for in the test set?': c, # letter here, \n",
    "    'How many users in the test set are we not able to make predictions for because of the cold start problem?': a, # letter here, \n",
    "    'How many movies can we make predictions for in the test set?': b, # letter here,\n",
    "    'How many movies in the test set are we not able to make predictions for because of the cold start problem?': d# letter here\n",
    "}\n",
    "\n",
    "t.sol_4_test(sol_4_dict)"
   ]
  },
  {
   "cell_type": "markdown",
   "metadata": {},
   "source": [
    "`5.` Now use the **user_item_train** dataset from above to find U, S, and V transpose using SVD. Then find the subset of rows in the **user_item_test** dataset that you can predict using this matrix decomposition with different numbers of latent features to see how many features makes sense to keep based on the accuracy on the test data. This will require combining what was done in questions `2` - `4`.\n",
    "\n",
    "Use the cells below to explore how well SVD works towards making predictions for recommendations on the test data.  "
   ]
  },
  {
   "cell_type": "code",
   "execution_count": 38,
   "metadata": {},
   "outputs": [],
   "source": [
    "# fit SVD on the user_item_train matrix\n",
    "#like the other, this always fails the first time\n",
    "u_train, s_train, vt_train = np.linalg.svd(user_item_train)# fit svd similar to above then use the cells below"
   ]
  },
  {
   "cell_type": "code",
   "execution_count": 39,
   "metadata": {},
   "outputs": [],
   "source": [
    "# Use these cells to see how well you can use the training \n",
    "# decomposition to predict on test data\n",
    "\n",
    "def latent_feature_pred(ui_train, ui_test, k_ls):\n",
    "    '''\n",
    "    INPUT: train mat, test mat, list of latent factor sizes\n",
    "    \n",
    "    OUTPUT: acc test, all\n",
    "    \n",
    "    STEPS:\n",
    "        1. Creates SVD decomposition (Tries twice)\n",
    "        2. subsets by number of latent factors\n",
    "        3. finds dot product\n",
    "        4. subsets test predictions\n",
    "        5. gets test and pred accuracy\n",
    "    \n",
    "    '''\n",
    "    try:\n",
    "        u, s, vt = np.linalg.svd(ui_train)\n",
    "    except:\n",
    "        try:\n",
    "            u, s, vt = np.linalg.svd(ui_train) \n",
    "        except:\n",
    "            print('sorry, your SVD is not converging')\n",
    "    \n",
    "    test_ind = ui_test.index\n",
    "    row_ind = ui_train.index.isin(test_ind)  \n",
    "    test_cols = ui_test.columns\n",
    "    col_ind = ui_train.columns.isin(test_cols)\n",
    "    \n",
    "    train_ind = ui_train.index\n",
    "    row_ind_train = ui_test.index.isin(train_ind)\n",
    "    ui_test_short = ui_test.loc[row_ind_train]\n",
    "    \n",
    "    u_test = u[row_ind, :]\n",
    "    vt_test = vt[:, col_ind]\n",
    "\n",
    "    acc_all_ls = []\n",
    "    acc_test_ls = []\n",
    "    \n",
    "    for k in k_ls:\n",
    "        u_new, vt_new = u[:, :k],vt[:k, :]\n",
    "        u_test_new, vt_test_new = u_test[:,:k], vt_test[:k, :]\n",
    "        \n",
    "        s_new = np.zeros((k, k))\n",
    "        s_new[:k, :k] = np.diag(s[:k]) \n",
    "    \n",
    "        preds = np.around(np.dot(np.dot(u_new, s_new), vt_new))\n",
    "        \n",
    "        test_preds = np.around(np.dot(np.dot(u_test_new, s_new), vt_test_new))\n",
    "        \n",
    "        acc_all = accuracy_score(ui_train.values.flatten(), preds.flatten()) \n",
    "        acc_test = accuracy_score(ui_test_short.values.flatten(), test_preds.flatten())\n",
    "      \n",
    "        acc_test_ls.append(acc_test)\n",
    "        acc_all_ls.append(acc_all)\n",
    "    \n",
    "    return acc_all_ls, acc_test_ls\n",
    "        \n",
    "        \n",
    "        \n",
    "def plot_latent_fig(k_ls, met_all_ls, met_test_ls, met_label = \"Accuracy\"): \n",
    "    '''\n",
    "    INPUT: list of latent factor vals, list of all/test accuracies, label for graphs\n",
    "    \n",
    "    OUTPUT: none, plots figures\n",
    "    '''\n",
    "    plt.figure()\n",
    "    plt.plot(k_ls, met_all_ls, label='All Accuracy')\n",
    "    plt.plot(k_ls, met_test_ls, label='Test')\n",
    "    plt.xlabel('Number of Latent Features')\n",
    "    plt.ylabel(met_label)\n",
    "    plt.title(met_label + ' vs. Number of Latent Features')\n",
    "    plt.legend()\n",
    "    plt.show()\n",
    "    \n",
    "    "
   ]
  },
  {
   "cell_type": "code",
   "execution_count": 40,
   "metadata": {},
   "outputs": [
    {
     "data": {
      "image/png": "[encoded data removed]",
      "text/plain": [
       "<matplotlib.figure.Figure at 0x2504d6778d0>"
      ]
     },
     "metadata": {},
     "output_type": "display_data"
    }
   ],
   "source": [
    "k_ls = np.arange(2, user_item_train.shape[1], 10)\n",
    "\n",
    "acc_all_ls, acc_test_ls = latent_feature_pred(user_item_train, user_item_test, k_ls)\n",
    "plot_latent_fig(k_ls, acc_all_ls, acc_test_ls)\n"
   ]
  },
  {
   "cell_type": "markdown",
   "metadata": {},
   "source": [
    "`6.` \n",
    "**RESULTS**\n",
    "\n",
    "While overall accuracy increases as number of latent features increases, for our testing set the opposite is true. Considering that this testing set was only comprised of 20 rows, it is hard to evaluate how well or poorly our model really is performing. It's possible that this sample is not representative of the whole, so while the model generally is improving at predicting probable data, this data is improbable.     \n",
    "\n",
    "**DISCUSSION**\n",
    "\n",
    "In order to evaluate how successful these recommendation systerms are, it would be useful to deploy an experiment.  Ideally there would be 3 experimental groups: collaborative, content, and rank-based recommendations.  A within-person control seems best given that there is evidence (section I) of some extreme outliers in base rate article interaction.  In order to accomplish this, users ought to be put randomly into either control blocks, and treatment blocks and switched.  This will also have the benefit that we will not have to worry about broad environmental factors (maybe in month 1 the articles were just more interesting: with a this blocked design this will not happen).  To determine appropriate length of study power analyses would be necessary (as covered earlier in the lesson)  "
   ]
  },
  {
   "cell_type": "markdown",
   "metadata": {
    "collapsed": true
   },
   "source": [
    "<a id='conclusions'></a>\n",
    "### Extras\n",
    "Using your workbook, you could now save your recommendations for each user, develop a class to make new predictions and update your results, and make a flask app to deploy your results.  These tasks are beyond what is required for this project.  However, from what you learned in the lessons, you certainly capable of taking these tasks on to improve upon your work here!\n",
    "\n",
    "\n",
    "## Conclusion\n",
    "\n",
    "> Congratulations!  You have reached the end of the Recommendations with IBM project! \n",
    "\n",
    "\n",
    "## Directions to Submit\n",
    "\n",
    "> Before you submit your project, you need to create a .html or .pdf version of this notebook in the workspace here. To do that, run the code cell below. If it worked correctly, you should get a return code of 0, and you should see the generated .html file in the workspace directory (click on the orange Jupyter icon in the upper left).\n",
    "\n",
    "> Alternatively, you can download this report as .html via the **File** > **Download as** submenu, and then manually upload it into the workspace directory by clicking on the orange Jupyter icon in the upper left, then using the Upload button.\n",
    "\n",
    "> Once you've done this, you can submit your project by clicking on the \"Submit Project\" button in the lower right here. This will create and submit a zip file with this .ipynb doc and the .html or .pdf version you created. Congratulations! "
   ]
  },
  {
   "cell_type": "code",
   "execution_count": 41,
   "metadata": {},
   "outputs": [
    {
     "data": {
      "text/plain": [
       "0"
      ]
     },
     "execution_count": 41,
     "metadata": {},
     "output_type": "execute_result"
    }
   ],
   "source": [
    "from subprocess import call\n",
    "call(['python', '-m', 'nbconvert', 'Recommendations_with_IBM.ipynb'])"
   ]
  },
  {
   "cell_type": "code",
   "execution_count": null,
   "metadata": {},
   "outputs": [],
   "source": []
  }
 ],
 "metadata": {
  "kernelspec": {
   "display_name": "Python 3",
   "language": "python",
   "name": "python3"
  },
  "language_info": {
   "codemirror_mode": {
    "name": "ipython",
    "version": 3
   },
   "file_extension": ".py",
   "mimetype": "text/x-python",
   "name": "python",
   "nbconvert_exporter": "python",
   "pygments_lexer": "ipython3",
   "version": "3.6.4"
  }
 },
 "nbformat": 4,
 "nbformat_minor": 2
}
